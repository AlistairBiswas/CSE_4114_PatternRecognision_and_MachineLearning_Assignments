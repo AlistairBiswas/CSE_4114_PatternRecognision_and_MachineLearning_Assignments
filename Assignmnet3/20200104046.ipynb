{
  "nbformat": 4,
  "nbformat_minor": 0,
  "metadata": {
    "colab": {
      "provenance": []
    },
    "kernelspec": {
      "name": "python3",
      "display_name": "Python 3"
    },
    "language_info": {
      "name": "python"
    }
  },
  "cells": [
    {
      "cell_type": "code",
      "execution_count": 34,
      "metadata": {
        "id": "C7HQ2eKCAGsa"
      },
      "outputs": [],
      "source": [
        "import pandas as pd\n",
        "import numpy as np\n",
        "import matplotlib\n",
        "import matplotlib.pyplot as plt"
      ]
    },
    {
      "cell_type": "code",
      "source": [
        "from google.colab import drive\n",
        "\n",
        "drive.mount('/content/gdrive')"
      ],
      "metadata": {
        "colab": {
          "base_uri": "https://localhost:8080/"
        },
        "id": "645AJKZ6AO2A",
        "outputId": "eb306fdf-844c-4da8-dbfa-cb6306310276"
      },
      "execution_count": 35,
      "outputs": [
        {
          "output_type": "stream",
          "name": "stdout",
          "text": [
            "Drive already mounted at /content/gdrive; to attempt to forcibly remount, call drive.mount(\"/content/gdrive\", force_remount=True).\n"
          ]
        }
      ]
    },
    {
      "cell_type": "code",
      "source": [
        "d1  = '/content/gdrive/MyDrive/dataset_project/train_knn.txt'\n",
        "d2  = '/content/gdrive/MyDrive/dataset_project/test_knn.txt'\n",
        "\n",
        "train = pd.read_csv(d1, sep=',' , header = None)\n",
        "test = pd.read_csv(d2, sep=',' , header = None)\n",
        "print(train)\n",
        "print(test)"
      ],
      "metadata": {
        "colab": {
          "base_uri": "https://localhost:8080/"
        },
        "id": "UPcSzpdkARgM",
        "outputId": "5356e1b9-735d-4a62-928c-d4684ea7c09b"
      },
      "execution_count": 36,
      "outputs": [
        {
          "output_type": "stream",
          "name": "stdout",
          "text": [
            "    0  1  2\n",
            "0   7  7  1\n",
            "1   7  4  1\n",
            "2   6  4  1\n",
            "3   7  5  1\n",
            "4   7  6  1\n",
            "5   6  7  1\n",
            "6   6  6  1\n",
            "7   3  4  2\n",
            "8   2  3  2\n",
            "9   3  2  2\n",
            "10  4  3  2\n",
            "11  3  3  2\n",
            "12  4  4  2\n",
            "13  1  4  2\n",
            "   0  1\n",
            "0  3  7\n",
            "1  7  7\n",
            "2  4  3\n",
            "3  2  8\n",
            "4  3  5\n",
            "5  1  2\n",
            "6  4  8\n",
            "7  8  3\n",
            "8  8  4\n"
          ]
        }
      ]
    },
    {
      "cell_type": "code",
      "source": [
        "class_1 = train[train[2]==1]\n",
        "print(class_1)"
      ],
      "metadata": {
        "colab": {
          "base_uri": "https://localhost:8080/"
        },
        "id": "PYlSdAhvAhJo",
        "outputId": "29f9f85a-c246-42b0-c90b-cc38b2790431"
      },
      "execution_count": 37,
      "outputs": [
        {
          "output_type": "stream",
          "name": "stdout",
          "text": [
            "   0  1  2\n",
            "0  7  7  1\n",
            "1  7  4  1\n",
            "2  6  4  1\n",
            "3  7  5  1\n",
            "4  7  6  1\n",
            "5  6  7  1\n",
            "6  6  6  1\n"
          ]
        }
      ]
    },
    {
      "cell_type": "code",
      "source": [
        "class_2 = train[train[2]==2]\n",
        "print(class_2)"
      ],
      "metadata": {
        "colab": {
          "base_uri": "https://localhost:8080/"
        },
        "id": "Avdu65a0A7r4",
        "outputId": "3ff20eec-81b3-46d7-e286-1c9760e34cc7"
      },
      "execution_count": 38,
      "outputs": [
        {
          "output_type": "stream",
          "name": "stdout",
          "text": [
            "    0  1  2\n",
            "7   3  4  2\n",
            "8   2  3  2\n",
            "9   3  2  2\n",
            "10  4  3  2\n",
            "11  3  3  2\n",
            "12  4  4  2\n",
            "13  1  4  2\n"
          ]
        }
      ]
    },
    {
      "cell_type": "code",
      "source": [
        "fig=plt.figure()\n",
        "ax=fig.add_axes([0,0,1.5,1.5])\n",
        "ax.scatter(class_1[0], class_1[1], color='dodgerblue', label=\"Class 1\")\n",
        "ax.scatter(class_2[0], class_2[1] , color='y', label=\"Class 2\")\n",
        "ax.set_xlabel('first Column')\n",
        "ax.set_ylabel('Second Column')\n",
        "ax.set_title('scatter plot')\n",
        "plt.legend(loc=\"upper left\")\n",
        "plt.show()"
      ],
      "metadata": {
        "colab": {
          "base_uri": "https://localhost:8080/",
          "height": 822
        },
        "id": "NBZB8CKiBDNG",
        "outputId": "685d0689-e298-4327-a404-4f548916f68a"
      },
      "execution_count": 39,
      "outputs": [
        {
          "output_type": "display_data",
          "data": {
            "text/plain": [
              "<Figure size 640x480 with 1 Axes>"
            ],
            "image/png": "[encoded data removed]"
          },
          "metadata": {}
        }
      ]
    },
    {
      "cell_type": "code",
      "source": [
        "def bubbleSort(array, train_points, target_label):\n",
        "    for i in range(len(array)):\n",
        "        for j in range(0, len(array) - i - 1):\n",
        "            if array[j] > array[j + 1]:\n",
        "                # Swap array elements\n",
        "                array[j], array[j+1] = array[j+1], array[j]\n",
        "\n",
        "                # Swap train_points elements\n",
        "                train_points[j], train_points[j+1] = train_points[j+1], train_points[j]\n",
        "\n",
        "                # Swap target_label elements\n",
        "                target_label[j], target_label[j+1] = target_label[j+1], target_label[j]\n",
        "    return array, train_points, target_label"
      ],
      "metadata": {
        "id": "wka8qcrtBFgp"
      },
      "execution_count": 40,
      "outputs": []
    },
    {
      "cell_type": "code",
      "source": [
        "def calculate_dist(x,y):\n",
        "    global train\n",
        "    dist = []\n",
        "    train_points = []\n",
        "    target_label = list(train[2])\n",
        "    for i,j in zip(train[0], train[1]):\n",
        "        dist.append(((i-x)**2 +(j-y)**2))\n",
        "        train_points.append((i, j))\n",
        "    dist, train_points, target_label = bubbleSort(dist, train_points, target_label)\n",
        "    return dist, train_points, target_label"
      ],
      "metadata": {
        "id": "HbvqEEczBJYu"
      },
      "execution_count": 41,
      "outputs": []
    },
    {
      "cell_type": "code",
      "source": [
        "distances = []\n",
        "train_points = []\n",
        "target_labels = []\n",
        "for i,j in zip(test[0], test[1]):\n",
        "    a, b, c = calculate_dist(i,j)\n",
        "    distances.append(a)\n",
        "    train_points.append(b)\n",
        "    target_labels.append(c)"
      ],
      "metadata": {
        "id": "OeU_I6aGBNrP"
      },
      "execution_count": 42,
      "outputs": []
    },
    {
      "cell_type": "code",
      "source": [
        "distances = np.array(distances)\n",
        "print(distances.shape)\n",
        "target_labels = np.array(target_labels)\n",
        "print(target_labels.shape)"
      ],
      "metadata": {
        "colab": {
          "base_uri": "https://localhost:8080/"
        },
        "id": "srq-1R7EBQ8S",
        "outputId": "c4177c22-cd95-4545-b030-d41fb7ad3d7d"
      },
      "execution_count": 43,
      "outputs": [
        {
          "output_type": "stream",
          "name": "stdout",
          "text": [
            "(9, 14)\n",
            "(9, 14)\n"
          ]
        }
      ]
    },
    {
      "cell_type": "code",
      "source": [
        "test = np.array(test)\n",
        "print(test)"
      ],
      "metadata": {
        "colab": {
          "base_uri": "https://localhost:8080/"
        },
        "id": "fsWCl2d0BUyu",
        "outputId": "cec3d170-65ab-4845-fdc8-c58f1668b408"
      },
      "execution_count": 44,
      "outputs": [
        {
          "output_type": "stream",
          "name": "stdout",
          "text": [
            "[[3 7]\n",
            " [7 7]\n",
            " [4 3]\n",
            " [2 8]\n",
            " [3 5]\n",
            " [1 2]\n",
            " [4 8]\n",
            " [8 3]\n",
            " [8 4]]\n"
          ]
        }
      ]
    },
    {
      "cell_type": "code",
      "source": [
        "k=3\n",
        "output = []\n",
        "predicted_class_1 = []\n",
        "predicted_class_2 = []\n",
        "prediction_text = []\n",
        "for i in range(len(test)):\n",
        "    count_1, count_2 = 0, 0\n",
        "    print('Test Point: ', test[i])\n",
        "    s = 'Test Point: '+ str(test[i]) + '\\n'\n",
        "    prediction_text.append(s)\n",
        "    for j in range(k):\n",
        "        if j < len(train_points[i]):\n",
        "            print('Distance : ', distances[i][j], 'Class : ', target_labels[i][j], 'Train Point: ', train_points[i][j])\n",
        "            s = 'Distance : '+ str(distances[i][j])  + '   Class : ' + str(target_labels[i][j]) + '   Train Point: ' + str(train_points[i][j]) + '\\n'\n",
        "            prediction_text.append(s)\n",
        "            if target_labels[i][j] == 1:\n",
        "                count_1 += 1\n",
        "            else:\n",
        "                count_2 += 1\n",
        "        else:\n",
        "            print('No more train points for this test point.')\n",
        "    if count_1 > count_2:\n",
        "        print('Predicted Class 1')\n",
        "        prediction_text.append('Predicted Class 1' + '\\n\\n')\n",
        "        predicted_class_1.append(list(test[i]))\n",
        "    else:\n",
        "        print('Predicted Class 2')\n",
        "        prediction_text.append('Predicted Class 2' + '\\n\\n')\n",
        "        predicted_class_2.append(list(test[i]))\n",
        "    print('\\n\\n')"
      ],
      "metadata": {
        "colab": {
          "base_uri": "https://localhost:8080/"
        },
        "id": "U5QCxMngDX3Z",
        "outputId": "c40950ba-94e1-49e5-cd71-30c089898a9d"
      },
      "execution_count": 45,
      "outputs": [
        {
          "output_type": "stream",
          "name": "stdout",
          "text": [
            "Test Point:  [3 7]\n",
            "Distance :  9 Class :  1 Train Point:  (6, 7)\n",
            "Distance :  9 Class :  2 Train Point:  (3, 4)\n",
            "Distance :  10 Class :  1 Train Point:  (6, 6)\n",
            "Predicted Class 1\n",
            "\n",
            "\n",
            "\n",
            "Test Point:  [7 7]\n",
            "Distance :  0 Class :  1 Train Point:  (7, 7)\n",
            "Distance :  1 Class :  1 Train Point:  (7, 6)\n",
            "Distance :  1 Class :  1 Train Point:  (6, 7)\n",
            "Predicted Class 1\n",
            "\n",
            "\n",
            "\n",
            "Test Point:  [4 3]\n",
            "Distance :  0 Class :  2 Train Point:  (4, 3)\n",
            "Distance :  1 Class :  2 Train Point:  (3, 3)\n",
            "Distance :  1 Class :  2 Train Point:  (4, 4)\n",
            "Predicted Class 2\n",
            "\n",
            "\n",
            "\n",
            "Test Point:  [2 8]\n",
            "Distance :  17 Class :  1 Train Point:  (6, 7)\n",
            "Distance :  17 Class :  2 Train Point:  (3, 4)\n",
            "Distance :  17 Class :  2 Train Point:  (1, 4)\n",
            "Predicted Class 2\n",
            "\n",
            "\n",
            "\n",
            "Test Point:  [3 5]\n",
            "Distance :  1 Class :  2 Train Point:  (3, 4)\n",
            "Distance :  2 Class :  2 Train Point:  (4, 4)\n",
            "Distance :  4 Class :  2 Train Point:  (3, 3)\n",
            "Predicted Class 2\n",
            "\n",
            "\n",
            "\n",
            "Test Point:  [1 2]\n",
            "Distance :  2 Class :  2 Train Point:  (2, 3)\n",
            "Distance :  4 Class :  2 Train Point:  (3, 2)\n",
            "Distance :  4 Class :  2 Train Point:  (1, 4)\n",
            "Predicted Class 2\n",
            "\n",
            "\n",
            "\n",
            "Test Point:  [4 8]\n",
            "Distance :  5 Class :  1 Train Point:  (6, 7)\n",
            "Distance :  8 Class :  1 Train Point:  (6, 6)\n",
            "Distance :  10 Class :  1 Train Point:  (7, 7)\n",
            "Predicted Class 1\n",
            "\n",
            "\n",
            "\n",
            "Test Point:  [8 3]\n",
            "Distance :  2 Class :  1 Train Point:  (7, 4)\n",
            "Distance :  5 Class :  1 Train Point:  (6, 4)\n",
            "Distance :  5 Class :  1 Train Point:  (7, 5)\n",
            "Predicted Class 1\n",
            "\n",
            "\n",
            "\n",
            "Test Point:  [8 4]\n",
            "Distance :  1 Class :  1 Train Point:  (7, 4)\n",
            "Distance :  2 Class :  1 Train Point:  (7, 5)\n",
            "Distance :  4 Class :  1 Train Point:  (6, 4)\n",
            "Predicted Class 1\n",
            "\n",
            "\n",
            "\n"
          ]
        }
      ]
    },
    {
      "cell_type": "code",
      "source": [
        "with open('prediction.txt', 'w') as writefile:\n",
        "    for line in prediction_text:\n",
        "        writefile.write(line)\n",
        "\n",
        "df1 = pd.DataFrame(predicted_class_1, columns = [0,1])\n",
        "df2 = pd.DataFrame(predicted_class_2, columns = [0,1])\n",
        "\n",
        "fig=plt.figure()\n",
        "ax=fig.add_axes([0,0,2,2])\n",
        "ax.scatter(class_1[0], class_1[1], color='dodgerblue', label=\"Class 1\")\n",
        "ax.scatter(df1[0], df1[1], color='navy', label=\"Predicted Class 1\")\n",
        "ax.scatter(class_2[0], class_2[1] , color='y', label=\"Class 2\")\n",
        "ax.scatter(df2[0], df2[1] , color='g', label=\"Predicted Class 2\")\n",
        "ax.set_xlabel('First Column')\n",
        "ax.set_ylabel('Second Column')\n",
        "ax.set_title('Scatter Plot')\n",
        "plt.legend(loc=\"upper right\")\n",
        "plt.show()"
      ],
      "metadata": {
        "colab": {
          "base_uri": "https://localhost:8080/",
          "height": 1000
        },
        "id": "rMmF5_bAB6-K",
        "outputId": "badac756-ae6a-4200-a571-58752b9fab5c"
      },
      "execution_count": 46,
      "outputs": [
        {
          "output_type": "display_data",
          "data": {
            "text/plain": [
              "<Figure size 640x480 with 1 Axes>"
            ],
            "image/png": "[encoded data removed]"
          },
          "metadata": {}
        }
      ]
    }
  ]
}