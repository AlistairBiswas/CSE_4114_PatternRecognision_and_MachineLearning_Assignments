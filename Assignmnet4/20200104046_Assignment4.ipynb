{
  "nbformat": 4,
  "nbformat_minor": 0,
  "metadata": {
    "colab": {
      "provenance": []
    },
    "kernelspec": {
      "name": "python3",
      "display_name": "Python 3"
    },
    "language_info": {
      "name": "python"
    }
  },
  "cells": [
    {
      "cell_type": "code",
      "execution_count": 1,
      "metadata": {
        "id": "C2TM3QMpHb9N"
      },
      "outputs": [],
      "source": [
        "import pandas as pd\n",
        "import numpy as np\n",
        "import matplotlib\n",
        "import matplotlib.pyplot as plt"
      ]
    },
    {
      "cell_type": "code",
      "source": [
        "from google.colab import drive\n",
        "\n",
        "drive.mount('/content/drive')"
      ],
      "metadata": {
        "colab": {
          "base_uri": "https://localhost:8080/"
        },
        "id": "JivBOSjjHjDP",
        "outputId": "7f41bf6e-bf0e-4572-9fb1-a04991bb54ae"
      },
      "execution_count": 7,
      "outputs": [
        {
          "output_type": "stream",
          "name": "stdout",
          "text": [
            "Mounted at /content/drive\n"
          ]
        }
      ]
    },
    {
      "cell_type": "code",
      "source": [
        "directory  = '/content/drive/MyDrive/dataset_project/data_k_mean.txt'\n",
        "train = pd.read_csv(directory, sep=' ' , header = None)\n",
        "train1 = train.to_numpy()\n",
        "print(train1)"
      ],
      "metadata": {
        "colab": {
          "base_uri": "https://localhost:8080/"
        },
        "id": "AsPCPdL1HmqV",
        "outputId": "03007666-5c3e-46ae-edb8-aa382cd180d8"
      },
      "execution_count": 8,
      "outputs": [
        {
          "output_type": "stream",
          "name": "stdout",
          "text": [
            "[[-7.87157 -4.86573]\n",
            " [-4.76661 -6.87944]\n",
            " [-6.67986 -5.8308 ]\n",
            " ...\n",
            " [ 6.91832 -0.32132]\n",
            " [-8.23828 -4.00405]\n",
            " [-5.75112 -5.99531]]\n"
          ]
        }
      ]
    },
    {
      "cell_type": "code",
      "source": [
        "plt.scatter(train[0], train[1], c = 'blue', marker = 's')\n",
        "plt.show()"
      ],
      "metadata": {
        "colab": {
          "base_uri": "https://localhost:8080/",
          "height": 430
        },
        "id": "vMEd2FGIICF5",
        "outputId": "afaac2ee-73ec-454b-d2e5-e7576a0cc486"
      },
      "execution_count": 9,
      "outputs": [
        {
          "output_type": "display_data",
          "data": {
            "text/plain": [
              "<Figure size 640x480 with 1 Axes>"
            ],
            "image/png": "[encoded data removed]"
          },
          "metadata": {}
        }
      ]
    },
    {
      "cell_type": "code",
      "source": [
        "k = int(input(\"Enter the value of k : \"))"
      ],
      "metadata": {
        "colab": {
          "base_uri": "https://localhost:8080/"
        },
        "id": "9XVdXDlWIGNU",
        "outputId": "f2273781-7f49-4762-b1a4-c7d5d05e47e6"
      },
      "execution_count": 10,
      "outputs": [
        {
          "name": "stdout",
          "output_type": "stream",
          "text": [
            "Enter the value of k : 2\n"
          ]
        }
      ]
    },
    {
      "cell_type": "code",
      "source": [
        "np.random.seed(seed=72)\n",
        "random_numbers = np.random.randint(low=0, high=len(train1), size=(k))\n",
        "centroids = [train1[random_numbers[i]] for i in range(k)]\n",
        "print(centroids)"
      ],
      "metadata": {
        "colab": {
          "base_uri": "https://localhost:8080/"
        },
        "id": "al4ar5mXIKWY",
        "outputId": "d74be178-8955-47e9-b510-0adbf4e4803d"
      },
      "execution_count": 11,
      "outputs": [
        {
          "output_type": "stream",
          "name": "stdout",
          "text": [
            "[array([ 6.80375, -0.13017]), array([6.68468, 0.85224])]\n"
          ]
        }
      ]
    },
    {
      "cell_type": "code",
      "source": [
        "distance = []\n",
        "index_clusters = [-1 for i in range(len(train1))]\n",
        "count = 0\n",
        "clusters = {}\n",
        "for x in range(500):\n",
        "    count = x\n",
        "\n",
        "    flag = 0\n",
        "    for y in range(k):\n",
        "        clusters[y] = []\n",
        "    # iterate through each data points\n",
        "    for i in range(len(train1)):\n",
        "        distance = []\n",
        "        for j in range(k):\n",
        "            dist = np.sqrt(pow(abs((train1[i][0] - centroids[j][0])), 2) + pow(abs((train1[i][1] - centroids[j][1])), 2))\n",
        "            distance.append(dist)\n",
        "        index = distance.index(min(distance))\n",
        "\n",
        "        if index_clusters[i] != index:\n",
        "            flag = 1\n",
        "            index_clusters[i] = index\n",
        "        clusters[index].append(train1[i])\n",
        "\n",
        "    if flag == 0:\n",
        "        break\n",
        "\n",
        "    centroids = [np.mean(np.asarray(clusters[z]), axis=0) for z in range(k)]"
      ],
      "metadata": {
        "id": "Vjgy1bE2IPSR"
      },
      "execution_count": 12,
      "outputs": []
    },
    {
      "cell_type": "code",
      "source": [
        "x1 = np.asarray(clusters[0])[:, 0]\n",
        "y1 = np.asarray(clusters[0])[:, 1]\n",
        "\n",
        "x2 = np.asarray(clusters[1])[:, 0]\n",
        "y2 = np.asarray(clusters[1])[:, 1]"
      ],
      "metadata": {
        "id": "ZZuI2OTuIWTh"
      },
      "execution_count": 13,
      "outputs": []
    },
    {
      "cell_type": "code",
      "source": [
        "plt.scatter(x1, y1, c = 'red', marker = 's', label = 'Class 1')\n",
        "plt.scatter(x2, y2, c = 'green', marker = 'H', label = 'Class 2')\n",
        "plt.legend(loc = 'best')\n",
        "plt.show()"
      ],
      "metadata": {
        "colab": {
          "base_uri": "https://localhost:8080/",
          "height": 430
        },
        "id": "opDDIpAjIYnK",
        "outputId": "4dd44c41-09e0-463b-d93a-b26733734626"
      },
      "execution_count": 14,
      "outputs": [
        {
          "output_type": "display_data",
          "data": {
            "text/plain": [
              "<Figure size 640x480 with 1 Axes>"
            ],
            "image/png": "[encoded data removed]"
          },
          "metadata": {}
        }
      ]
    }
  ]
}